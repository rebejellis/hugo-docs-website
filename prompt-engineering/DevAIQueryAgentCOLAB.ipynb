{
  "nbformat": 4,
  "nbformat_minor": 0,
  "metadata": {
    "colab": {
      "provenance": []
    },
    "kernelspec": {
      "name": "python3",
      "display_name": "Python 3"
    },
    "language_info": {
      "name": "python"
    }
  },
  "cells": [
    {
      "cell_type": "code",
      "execution_count": null,
      "metadata": {
        "id": "Hsc3mAXfWu2d"
      },
      "outputs": [],
      "source": [
        "# prompt: Build an agent to query Developer AI Platform documentation at Google. That includes YAQs, MOMA, g3docs.\n",
        "\n",
        "import requests\n",
        "import json\n",
        "import re\n",
        "import os\n",
        "\n",
        "# Define the base URL for the Developer AI Platform documentation API.\n",
        "BASE_URL = \"https://cloud.google.com/ai-platform/docs/v1/\"\n",
        "\n",
        "# Define the headers for the API requests.\n",
        "HEADERS = {\n",
        "    \"Authorization\": \"Bearer YOUR_API_KEY\",\n",
        "    \"Content-Type\": \"application/json\",\n",
        "}\n",
        "\n",
        "# Define the function to query the API.\n",
        "def query_api(endpoint, params):\n",
        "  # Make the request to the API.\n",
        "  response = requests.get(BASE_URL + endpoint, params=params, headers=HEADERS)\n",
        "\n",
        "  # Check the response status code.\n",
        "  if response.status_code == 200:\n",
        "    # Return the response body.\n",
        "    return response.json()\n",
        "  else:\n",
        "    # Raise an error if the request failed.\n",
        "    raise Exception(\"API request failed with status code {}\".format(response.status_code))\n",
        "\n",
        "# Define the function to get the list of all YAQs.\n",
        "def get_yaqs():\n",
        "  # Make a request to the API to get the list of all YAQs.\n",
        "  response = query_api(\"yaqs\", {})\n",
        "\n",
        "  # Return the list of YAQs.\n",
        "  return response[\"yaqs\"]\n",
        "\n",
        "# Define the function to get the list of all MOMA articles.\n",
        "def get_moma_articles():\n",
        "  # Make a request to the API to get the list of all MOMA articles.\n",
        "  response = query_api(\"moma\", {})\n",
        "\n",
        "  # Return the list of MOMA articles.\n",
        "  return response[\"articles\"]\n",
        "\n",
        "# Define the function to get the list of all g3docs.\n",
        "def get_g3docs():\n",
        "  # Make a request to the API to get the list of all g3docs.\n",
        "  response = query_api(\"g3docs\", {})\n",
        "\n",
        "  # Return the list of g3docs.\n",
        "  return response[\"documents\"]\n",
        "\n",
        "# Define the function to search for a specific query in the documentation.\n",
        "def search_documentation(query):\n",
        "  # Make a request to the API to search for the query in the documentation.\n",
        "  response = query_api(\"search\", {\"q\": query})\n",
        "\n",
        "  # Return the list of search results.\n",
        "  return response[\"results\"]\n",
        "\n",
        "# Define the function to get the content of"
      ]
    },
    {
      "cell_type": "code",
      "source": [
        "import requests\n",
        "from bs4 import BeautifulSoup\n",
        "\n",
        "def get_html_content(url):\n",
        "  \"\"\"Returns the HTML content of the given URL.\n",
        "\n",
        "  Args:\n",
        "    url: The URL to query.\n",
        "\n",
        "  Returns:\n",
        "    A BeautifulSoup object containing the HTML content of the URL.\n",
        "  \"\"\"\n",
        "\n",
        "  response = requests.get(url)\n",
        "  return BeautifulSoup(response.content, 'html.parser')\n",
        "\n",
        "def query_developer_ai_platform_docs(query):\n",
        "  \"\"\"Queries the Developer AI Platform documentation and returns the results.\n",
        "\n",
        "  Args:\n",
        "    query: The query to search for.\n",
        "\n",
        "  Returns:\n",
        "    A list of results, where each result is a dictionary containing the following\n",
        "    keys:\n",
        "      - title: The title of the result.\n",
        "      - url: The URL of the result.\n",
        "  \"\"\"\n",
        "\n",
        "  results = []\n",
        "\n",
        "  # Query the YAQs documentation.\n",
        "  yaqs_url = 'https://ai.google/research/pubs/pub49023/'\n",
        "  yaqs_html = get_html_content(yaqs_url)\n",
        "  for result in yaqs_html.find_all('a', class_='result-title'):\n",
        "    results.append({\n",
        "      'title': result.text,\n",
        "      'url': yaqs_url + result['href']\n",
        "    })\n",
        "\n",
        "  # Query the MOMA documentation.\n",
        "  moma_url = 'https://research.google/teams/brain/projects/moma/'\n",
        "  moma_html = get_html_content(moma_url)\n",
        "  for result in moma_html.find_all('a', class_='result-title'):\n",
        "    results.append({\n",
        "      'title': result.text,\n",
        "      'url': moma_url + result['href']\n",
        "    })\n",
        "\n",
        "  # Query the g3docs documentation.\n",
        "  g3docs_url = 'https://g3doc.corp.google.com/devtools/devassist/platform/g3doc/?query=<query>'\n",
        "  g3docs_html = get_html_content(g3docs_url)\n",
        "  for result in g3docs_html.find_all('a', class_='header'):\n",
        "    results.append({\n",
        "      'title': result.text,\n",
        "      'url': g3docs_url + result['href']\n",
        "    })\n",
        "\n",
        "  return results\n",
        "\n"
      ],
      "metadata": {
        "id": "WHVfoYcsusWW"
      },
      "execution_count": null,
      "outputs": []
    },
    {
      "cell_type": "code",
      "source": [
        "def user_dialog(query):\n",
        "  \"\"\"Prompts the user for a query and outputs the results to the console.\n",
        "\n",
        "  Args:\n",
        "    query: The query to search for.\n",
        "  \"\"\"\n",
        "\n",
        "  # Query the Developer AI Platform documentation.\n",
        "  results = query_developer_ai_platform_docs(query)\n",
        "\n",
        "  # If the results list is empty, print a message.\n",
        "  if not results:\n",
        "    display('### No results found for query:', query)\n",
        "  else:\n",
        "    # Iterate over the results list and display the results to the console.\n",
        "    display('### Results for query:', query)\n",
        "    for result in results:\n",
        "      display('* [{}]({})'.format(result['title'], result['url']))\n",
        "\n",
        "# Get the user's query.\n",
        "query = input('Enter a query: ')\n",
        "\n",
        "# Call the user dialog function.\n",
        "user_dialog(query)\n"
      ],
      "metadata": {
        "colab": {
          "base_uri": "https://localhost:8080/",
          "height": 71
        },
        "id": "Q8v2DxkLvElh",
        "outputId": "e36b5955-295e-4dc4-82c3-1b1f628ddc08"
      },
      "execution_count": null,
      "outputs": [
        {
          "name": "stdout",
          "output_type": "stream",
          "text": [
            "Enter a query: How do I install Goose?\n"
          ]
        },
        {
          "output_type": "display_data",
          "data": {
            "text/plain": [
              "'### No results found for query:'"
            ],
            "application/vnd.google.colaboratory.intrinsic+json": {
              "type": "string"
            }
          },
          "metadata": {}
        },
        {
          "output_type": "display_data",
          "data": {
            "text/plain": [
              "'How do I install Goose?'"
            ],
            "application/vnd.google.colaboratory.intrinsic+json": {
              "type": "string"
            }
          },
          "metadata": {}
        }
      ]
    }
  ]
}